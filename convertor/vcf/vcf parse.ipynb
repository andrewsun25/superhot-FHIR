{
 "cells": [
  {
   "cell_type": "code",
   "execution_count": 7,
   "metadata": {
    "collapsed": true
   },
   "outputs": [],
   "source": [
    "from vcf_parser import VCFParser, HeaderParser\n",
    "import json\n",
    "from pprint import pprint"
   ]
  },
  {
   "cell_type": "code",
   "execution_count": 8,
   "metadata": {
    "collapsed": true
   },
   "outputs": [],
   "source": [
    "def get_meta_lines(filepath):\n",
    "    meta_lines = []\n",
    "    a = {}\n",
    "    # Get all meta data lines\n",
    "    with open(filepath, 'r') as rf:\n",
    "        for line in rf:\n",
    "            if line.startswith(\"##\"):\n",
    "                meta_lines.append(line)\n",
    "    return meta_lines"
   ]
  },
  {
   "cell_type": "code",
   "execution_count": 9,
   "metadata": {},
   "outputs": [],
   "source": [
    "\"\"\"\n",
    "    Out:\n",
    "        A FHIR Sequence Resource encoded as a JSON object\n",
    "    In:\n",
    "        filepath: filepath to VCF file\n",
    "        patient_reference: identifier of the patient where the VCF data came from\n",
    "        ref_window_start: start position of the window on the reference sequence\n",
    "        ref_window_end: end position of the window on the reference sequence\n",
    "\"\"\"\n",
    "def vcf_to_sequence(filepath, patient_reference, ref_window_start, ref_window_end):\n",
    "    \n",
    "    # First parse the meta data lines (the lines that begin with ##), decide what to do with these lines later\n",
    "    meta_lines = get_meta_lines(filepath)\n",
    "    header_parser = HeaderParser()\n",
    "    for line in meta_lines:\n",
    "        header_parser.parse_meta_data(line) # Parses meta data lines and stores them in member variables of header_parser\n",
    "\n",
    "    # Then generate the important fields of the sequence resource\n",
    "    sequence_resource = {}\n",
    "    sequence_resource[\"species\"] = {\"text\": \"Homo sapiens\"}\n",
    "    sequence_resource[\"resourceType\"] = \"Sequence\"\n",
    "    sequence_resource[\"id\"] = \"SequenceID\" # Change this to something that makes sense in our system\n",
    "    sequence_resource[\"type\"] = \"DNA\"\n",
    "    sequence_resource[\"coordinateSystem\"] = 1 # VCF files use 1 based coord system\n",
    "    sequence_resource[\"patient\"] = {'reference' : 'Patient/' + patient_reference}\n",
    "\n",
    "    # Obtained from VCF file\n",
    "    sequence_resource['referenceSeq'] = {}\n",
    "    sequence_resource[\"referenceSeq\"]['referenceSeqPointer'] = \"refSequencePointer\" # Change this to something that makes sense in our system\n",
    "    sequence_resource['referenceSeq']['strand'] = 1 # VCF files have directionality == 1\n",
    "    sequence_resource['referenceSeq'][\"windowStart\"] = ref_window_start\n",
    "    sequence_resource['referenceSeq'][\"windowEnd\"] = ref_window_end\n",
    "\n",
    "    vcf_parser = VCFParser(infile=filepath, split_variants=True, check_info=True) # parses the VCF file\n",
    "\n",
    "    sequence_resource['variant'] = [] # list of all SNP (single nucleotide polymorphism) variants recorded in VCF file\n",
    "    sequence_resource['quality'] = [] # List of qualities of all variants\n",
    "\n",
    "    for variant in vcf_parser:\n",
    "        # Add an observed variant to the resource's variant field\n",
    "        sequence_variant = {}\n",
    "        sequence_variant['start'] = int(variant['POS']) # The 1-based position on the reference sequence where the variation starts\n",
    "        sequence_variant['end'] = int(variant['POS']) + len(variant['REF']) # The 1-based position on the reference sequence where the variation ends\n",
    "        sequence_variant['observedAllele'] = variant['ALT'] # base pair on observed sequence\n",
    "        sequence_variant['referenceAllele'] = variant['REF'] # base pair on reference sequence\n",
    "        sequence_resource['variant'].append(sequence_variant)\n",
    "\n",
    "        # Add a quality score for each variant\n",
    "        sequence_quality = {}\n",
    "        sequence_quality['type'] = 'snp' # a snp variant just means 1 base pair is different\n",
    "        sequence_quality['start'] = int(variant['POS']) # The 1-based position on the reference sequence where the variation starts\n",
    "        sequence_quality['end'] = int(variant['POS']) + len(variant['REF']) # The 1-based position on the reference sequence where the variation ends\n",
    "        sequence_quality['score'] = variant['QUAL']\n",
    "        sequence_resource['quality'].append(sequence_quality)\n",
    "\n",
    "        sequence_resource['referenceSeq']['chromosome'] = variant['CHROM'] # ID of the reference chromosome\n",
    "        sequence_resource['observedSeq'] = variant['ID'] # ID of the observed (ALT) chromosome     \n",
    "\n",
    "    return json.dumps(sequence_resource)"
   ]
  },
  {
   "cell_type": "code",
   "execution_count": 13,
   "metadata": {},
   "outputs": [
    {
     "data": {
      "text/plain": [
       "{'coordinateSystem': 1,\n",
       " 'id': 'SequenceID',\n",
       " 'observedSeq': '.',\n",
       " 'patient': {'reference': 'Patient/patient6'},\n",
       " 'quality': [{'end': 63394,\n",
       "   'score': '29454.60',\n",
       "   'start': 63393,\n",
       "   'type': 'snp'},\n",
       "  {'end': 65913, 'score': '7340.57', 'start': 65903, 'type': 'snp'},\n",
       "  {'end': 70838, 'score': '4711.61', 'start': 70837, 'type': 'snp'},\n",
       "  {'end': 71449, 'score': '31134.60', 'start': 71448, 'type': 'snp'},\n",
       "  {'end': 104258, 'score': '5521.61', 'start': 104257, 'type': 'snp'},\n",
       "  {'end': 140659, 'score': '32467.60', 'start': 140658, 'type': 'snp'},\n",
       "  {'end': 147464, 'score': '4885.61', 'start': 147463, 'type': 'snp'},\n",
       "  {'end': 154579, 'score': '32015.60', 'start': 154578, 'type': 'snp'},\n",
       "  {'end': 203201, 'score': '30880.60', 'start': 203200, 'type': 'snp'},\n",
       "  {'end': 231666, 'score': '30074.60', 'start': 231665, 'type': 'snp'}],\n",
       " 'referenceSeq': {'chromosome': 'ref',\n",
       "  'referenceSeqPointer': 'refSequencePointer',\n",
       "  'strand': 1,\n",
       "  'windowEnd': 3000,\n",
       "  'windowStart': 1100},\n",
       " 'resourceType': 'Sequence',\n",
       " 'species': {'text': 'Homo sapiens'},\n",
       " 'type': 'DNA',\n",
       " 'variant': [{'end': 63394,\n",
       "   'observedAllele': 'A',\n",
       "   'referenceAllele': 'C',\n",
       "   'start': 63393},\n",
       "  {'end': 65913,\n",
       "   'observedAllele': 'A',\n",
       "   'referenceAllele': 'AATTGCGCTG',\n",
       "   'start': 65903},\n",
       "  {'end': 70838,\n",
       "   'observedAllele': 'A',\n",
       "   'referenceAllele': 'C',\n",
       "   'start': 70837},\n",
       "  {'end': 71449,\n",
       "   'observedAllele': 'T',\n",
       "   'referenceAllele': 'C',\n",
       "   'start': 71448},\n",
       "  {'end': 104258,\n",
       "   'observedAllele': 'T',\n",
       "   'referenceAllele': 'C',\n",
       "   'start': 104257},\n",
       "  {'end': 140659,\n",
       "   'observedAllele': 'A',\n",
       "   'referenceAllele': 'C',\n",
       "   'start': 140658},\n",
       "  {'end': 147464,\n",
       "   'observedAllele': 'A',\n",
       "   'referenceAllele': 'C',\n",
       "   'start': 147463},\n",
       "  {'end': 154579,\n",
       "   'observedAllele': 'G',\n",
       "   'referenceAllele': 'A',\n",
       "   'start': 154578},\n",
       "  {'end': 203201,\n",
       "   'observedAllele': 'T',\n",
       "   'referenceAllele': 'C',\n",
       "   'start': 203200},\n",
       "  {'end': 231666,\n",
       "   'observedAllele': 'T',\n",
       "   'referenceAllele': 'C',\n",
       "   'start': 231665}]}"
      ]
     },
     "execution_count": 13,
     "metadata": {},
     "output_type": "execute_result"
    }
   ],
   "source": [
    "# example usage\n",
    "sequence_resource = vcf_to_sequence('vcf/FT.vcf', 'patient6', 1100, 3000)"
   ]
  },
  {
   "cell_type": "code",
   "execution_count": null,
   "metadata": {
    "collapsed": true
   },
   "outputs": [],
   "source": []
  }
 ],
 "metadata": {
  "kernelspec": {
   "display_name": "Python 3",
   "language": "python",
   "name": "python3"
  },
  "language_info": {
   "codemirror_mode": {
    "name": "ipython",
    "version": 3
   },
   "file_extension": ".py",
   "mimetype": "text/x-python",
   "name": "python",
   "nbconvert_exporter": "python",
   "pygments_lexer": "ipython3",
   "version": "3.6.1"
  }
 },
 "nbformat": 4,
 "nbformat_minor": 2
}
