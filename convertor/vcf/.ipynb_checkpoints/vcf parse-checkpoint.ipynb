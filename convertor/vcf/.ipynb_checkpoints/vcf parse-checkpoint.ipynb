{
 "cells": [
  {
   "cell_type": "code",
   "execution_count": 1,
   "metadata": {
    "collapsed": true
   },
   "outputs": [],
   "source": [
    "from vcf_parser import VCFParser, HeaderParser\n",
    "import json"
   ]
  },
  {
   "cell_type": "code",
   "execution_count": 5,
   "metadata": {
    "collapsed": true
   },
   "outputs": [],
   "source": [
    "def get_meta_lines(filepath):\n",
    "    meta_lines = []\n",
    "    # Get all meta data lines\n",
    "    with open(filepath, 'r') as rf:\n",
    "        for line in rf:\n",
    "            if line.startswith(\"##\"):\n",
    "                meta_lines.append(line)\n",
    "    return meta_lines"
   ]
  },
  {
   "cell_type": "code",
   "execution_count": 9,
   "metadata": {},
   "outputs": [
    {
     "ename": "SyntaxError",
     "evalue": "invalid syntax (<ipython-input-9-0ee14e56ade4>, line 10)",
     "output_type": "error",
     "traceback": [
      "\u001b[1;36m  File \u001b[1;32m\"<ipython-input-9-0ee14e56ade4>\"\u001b[1;36m, line \u001b[1;32m10\u001b[0m\n\u001b[1;33m    sequence_resource = {}\u001b[0m\n\u001b[1;37m                    ^\u001b[0m\n\u001b[1;31mSyntaxError\u001b[0m\u001b[1;31m:\u001b[0m invalid syntax\n"
     ]
    }
   ],
   "source": [
    "def vcf_to_sequence(filepath, patient_reference, ref_window_start, ref_window_end):\n",
    "    \n",
    "    # First parse the meta data lines (the lines that begin with ##), decide what to do with these lines later\n",
    "    meta_lines = get_meta_lines(filepath)\n",
    "    header_parser = HeaderParser()\n",
    "    for meta_line in meta_lines:\n",
    "        header_parser.parse_meta_data(meta_line # Parses meta data lines and stores them in member variables of header_parser\n",
    "\n",
    "    # Then generate the important fields of the sequence resource\n",
    "    sequence_resource = {}\n",
    "    sequence_resource[\"species\"] = {\"text\": \"Homo sapiens\"}\n",
    "    sequence_resource[\"resourceType\"] = \"Sequence\"\n",
    "    sequence_resource[\"id\"] = \"SequenceID\" # Change this to something that makes sense in our system\n",
    "    sequence_resource[\"type\"] = \"DNA\"\n",
    "    sequence_resource[\"coordinateSystem\"] = 1 # VCF files use 1 based coord system\n",
    "    sequence_resource[\"patient\"] = {'reference' : 'Patient/' + patient_reference}\n",
    "\n",
    "    # Obtained from VCF file\n",
    "    sequence_resource['referenceSeq'] = {}\n",
    "    sequence_resource[\"referenceSeq\"]['referenceSeqPointer'] = \"refSequencePointer\" # Change this to something that makes sense in our system\n",
    "    sequence_resource['referenceSeq']['strand'] = 1 # VCF files have directionality == 1\n",
    "    sequence_resource['referenceSeq'][\"windowStart\"] = ref_window_start\n",
    "    sequence_resource['referenceSeq'][\"windowEnd\"] = ref_window_end\n",
    "\n",
    "    vcf_parser = VCFParser(infile=filepath, split_variants=True, check_info=True) # parses the VCF file\n",
    "                                      \n",
    "    sequence_resource['variant'] = [] # list of all SNP (single nucleotide polymorphism) variants recorded in VCF file\n",
    "    sequence_resource['quality'] = [] # List of qualities of all variants\n",
    "                                  \n",
    "    for variant in vcf_parser:\n",
    "        # Add an observed variant to the resource's variant field\n",
    "        sequence_variant = {}\n",
    "        sequence_variant['start'] = int(variant['POS']) # The 1-based position on the reference sequence where the variation starts\n",
    "        sequence_variant['end'] = int(variant['POS']) + len(variant['REF']) # The 1-based position on the reference sequence where the variation ends\n",
    "        sequence_variant['observedAllele'] = variant['ALT'] # base pair on observed sequence\n",
    "        sequence_variant['referenceAllele'] = variant['REF'] # base pair on reference sequence\n",
    "        sequence_resource['variant'].append(sequence_variant)\n",
    "        \n",
    "        # Add a quality score for each variant\n",
    "        sequence_quality = {}\n",
    "        sequence_quality['type'] = 'snp' # a snp variant just means 1 base pair is different\n",
    "        sequence_quality['start'] = int(variant['POS']) # The 1-based position on the reference sequence where the variation starts\n",
    "        sequence_quality['end'] = int(variant['POS']) + len(variant['REF']) # The 1-based position on the reference sequence where the variation ends\n",
    "        sequence_quality['score'] = variant['QUAL']\n",
    "        sequence_resource['quality'].append(sequence_quality)\n",
    "\n",
    "        sequence_resource['referenceSeq']['chromosome'] = variant['CHROM'] # ID of the reference chromosome\n",
    "        sequence_resource['observedSeq'] = variant['ID'] # ID of the observed (ALT) chromosome     \n",
    "                                      \n",
    "    return json.dumps(sequence_resource)"
   ]
  },
  {
   "cell_type": "code",
   "execution_count": 7,
   "metadata": {},
   "outputs": [
    {
     "ename": "NameError",
     "evalue": "name 'vcf_to_sequence' is not defined",
     "output_type": "error",
     "traceback": [
      "\u001b[1;31m---------------------------------------------------------------------------\u001b[0m",
      "\u001b[1;31mNameError\u001b[0m                                 Traceback (most recent call last)",
      "\u001b[1;32m<ipython-input-7-26e25e5f6f71>\u001b[0m in \u001b[0;36m<module>\u001b[1;34m()\u001b[0m\n\u001b[1;32m----> 1\u001b[1;33m \u001b[0mvcf_to_sequence\u001b[0m\u001b[1;33m(\u001b[0m\u001b[1;34m'vcf/FT.vcf'\u001b[0m\u001b[1;33m,\u001b[0m \u001b[1;34m'patient6'\u001b[0m\u001b[1;33m,\u001b[0m \u001b[1;36m1100\u001b[0m\u001b[1;33m,\u001b[0m \u001b[1;36m3000\u001b[0m\u001b[1;33m)\u001b[0m\u001b[1;33m\u001b[0m\u001b[0m\n\u001b[0m",
      "\u001b[1;31mNameError\u001b[0m: name 'vcf_to_sequence' is not defined"
     ]
    }
   ],
   "source": [
    "vcf_to_sequence('vcf/FT.vcf', 'patient6', 1100, 3000)"
   ]
  },
  {
   "cell_type": "code",
   "execution_count": null,
   "metadata": {
    "collapsed": true
   },
   "outputs": [],
   "source": []
  }
 ],
 "metadata": {
  "kernelspec": {
   "display_name": "Python 3",
   "language": "python",
   "name": "python3"
  },
  "language_info": {
   "codemirror_mode": {
    "name": "ipython",
    "version": 3
   },
   "file_extension": ".py",
   "mimetype": "text/x-python",
   "name": "python",
   "nbconvert_exporter": "python",
   "pygments_lexer": "ipython3",
   "version": "3.6.1"
  }
 },
 "nbformat": 4,
 "nbformat_minor": 2
}
